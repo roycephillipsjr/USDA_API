{
 "cells": [
  {
   "cell_type": "markdown",
   "metadata": {},
   "source": [
    "Some links that helped me:<br>\n",
    "https://medium.com/swlh/using-and-calling-an-api-with-python-494a18cb1f44 <br>\n",
    "https://fdc.nal.usda.gov/api-guide.html<br>\n",
    "https://fdc.nal.usda.gov/api-spec/fdc_api.html#/FDC/getFood<br>\n",
    "https://api.data.gov/docs/api-key/"
   ]
  },
  {
   "cell_type": "code",
   "execution_count": null,
   "metadata": {},
   "outputs": [],
   "source": [
    "import requests\n",
    "import bs4\n",
    "import pandas as pd\n",
    "import time\n",
    "from sys import argv"
   ]
  },
  {
   "cell_type": "code",
   "execution_count": null,
   "metadata": {},
   "outputs": [],
   "source": [
    "script, csv_file = argv\n",
    "USDA_API_KEY = '' # Your api goes here\n",
    "base_url = 'https://api.nal.usda.gov/fdc/v1/food/'\n",
    "headers = {\"X-Api-Key\": USDA_API_KEY, \"Content-type\": \"application/json\"}\n",
    "#            \"X-RateLimit-Limit\" : '' , 'X-RateLimit-Remaining' : ''}"
   ]
  },
  {
   "cell_type": "code",
   "execution_count": null,
   "metadata": {},
   "outputs": [],
   "source": [
    "# Fuction to get the json file from USDA\n",
    "def get_json(fdc_id):\n",
    "    # Full url to get data\n",
    "    full_url = base_url + fdc_id\n",
    "    # using headers from above\n",
    "    # most important is the API key\n",
    "    res = requests.get(full_url,headers=headers)\n",
    "    json = res.json()\n",
    "    return json"
   ]
  },
  {
   "cell_type": "code",
   "execution_count": null,
   "metadata": {},
   "outputs": [],
   "source": [
    "# Fuction to gather all the nutrition data from food item on USDA\n",
    "def gather_data_to_df(json):\n",
    "    # Gathering a list of dictionaries\n",
    "    all_nutrient_data = []\n",
    "    \n",
    "    # for loop to gather all information\n",
    "    for num in range(len(json['foodNutrients'])):\n",
    "        # had to create an empty amount variable due to error\n",
    "        # some values didn't have an amount key from the json file\n",
    "        amount = ''\n",
    "        nutrient = json['foodNutrients'][num]['nutrient']['name']\n",
    "        try:\n",
    "            amount = json['foodNutrients'][num]['amount']\n",
    "        except:\n",
    "            pass\n",
    "        unit = json['foodNutrients'][num]['nutrient']['unitName']\n",
    "        # creating a dictionary with all the information\n",
    "        nutrient_data ={\n",
    "            'food_id': json['fdcId'],\n",
    "            'food-item': json['description'],\n",
    "            'ndb_number': json['ndbNumber'],\n",
    "            'nutrient': nutrient,\n",
    "            'amount': amount,\n",
    "            'unit': unit\n",
    "        }\n",
    "        all_nutrient_data.append(nutrient_data)\n",
    "        \n",
    "        # turning all the information into a dataframe\n",
    "        food_item_df = pd.DataFrame(all_nutrient_data)\n",
    "        \n",
    "    return food_item_df "
   ]
  },
  {
   "cell_type": "code",
   "execution_count": null,
   "metadata": {},
   "outputs": [],
   "source": [
    "# Not all the information is needed\n",
    "# This fuction is to only keep the nutrition facts I need\n",
    "def specific_nutrients(full_item_df):\n",
    "    specific_nutrients_df = full_item_df[(full_item_df['nutrient'] == 'Protein') | \n",
    "              ((full_item_df['nutrient'] == 'Energy') & (full_item_df['unit'] == 'kcal')) | \n",
    "              (full_item_df['nutrient'] == 'Calcium, Ca') |\n",
    "              (full_item_df['nutrient'] == 'Carbohydrate, by difference') | \n",
    "              (full_item_df['nutrient'] == 'Cholesterol') |\n",
    "              (full_item_df['nutrient'] == 'Fatty acids, total saturated') |\n",
    "              (full_item_df['nutrient'] == 'Fatty acids, total trans') |\n",
    "              (full_item_df['nutrient'] == 'Iron, Fe') |\n",
    "              (full_item_df['nutrient'] == 'Potassium, K') |\n",
    "              (full_item_df['nutrient'] == 'Sodium, Na') |\n",
    "              (full_item_df['nutrient'] == 'Fatty acids, total trans') |\n",
    "              (full_item_df['nutrient'] == 'Sugars, total including NLEA') | \n",
    "              (full_item_df['nutrient'] == 'Sugars, added') |\n",
    "              (full_item_df['nutrient'] == 'Total lipid (fat)') | \n",
    "              (full_item_df['nutrient'] == 'Vitamin A, IU') | \n",
    "              (full_item_df['nutrient'] == 'Vitamin A, RAE') |\n",
    "              (full_item_df['nutrient'] == 'Vitamin C, total ascorbic acid') |\n",
    "              (full_item_df['nutrient'] == 'Vitamin D (D2 + D3), International Units') |\n",
    "              (full_item_df['nutrient'] == 'Vitamin D (D2 + D3)') |\n",
    "              (full_item_df['nutrient'] == 'Fiber, total dietary')\n",
    "             ]\n",
    "    return specific_nutrients_df"
   ]
  },
  {
   "cell_type": "code",
   "execution_count": null,
   "metadata": {},
   "outputs": [],
   "source": [
    "# Re-indexing by nutrient\n",
    "def new_index_order(clean_df):\n",
    "    new_index_df = clean_df.set_index(['nutrient'])\n",
    "    final_df = new_index_df.reindex(['Calcium, Ca', 'Energy', 'Carbohydrate, by difference', 'Cholesterol', \n",
    "                             'Fatty acids, total saturated', 'Fatty acids, total trans', 'Fiber, total dietary',\n",
    "                             'Iron, Fe', 'Potassium, K', 'Protein', 'Sodium, Na', 'Sugars, added', \n",
    "                             'Sugars, total including NLEA', 'Total lipid (fat)', 'Vitamin A, IU', \n",
    "                             'Vitamin A, RAE', 'Vitamin C, total ascorbic acid', \n",
    "                             'Vitamin D (D2 + D3), International Units', 'Vitamin D (D2 + D3)'])\n",
    "    return final_df"
   ]
  },
  {
   "cell_type": "code",
   "execution_count": null,
   "metadata": {},
   "outputs": [],
   "source": [
    "# Opening a csv file to read in all the FDC-ID codes\n",
    "\n",
    "# Empty list to gather all FDC_ID codes\n",
    "fdc_id_list = []\n",
    "with open(csv_file, 'r') as file:\n",
    "    for line in file:\n",
    "        fdc_id_list.append(line.strip())"
   ]
  },
  {
   "cell_type": "code",
   "execution_count": null,
   "metadata": {},
   "outputs": [],
   "source": [
    "# Final bit of code putting all the functions together\n",
    "# Added printing statements to know where in the process the script is\n",
    "\n",
    "all_dataframes = []\n",
    "for fdc_id in fdc_id_list:\n",
    "    print(f\"Getting json for FDC ID: {fdc_id}\")\n",
    "    json = get_json(fdc_id)\n",
    "    food_item = json['description']\n",
    "    print(f\"Now getting all nutrients for '{food_item}'\")\n",
    "    full_nutrients = gather_data_to_df(json)\n",
    "    print(\"Removing unnecessary nutrients\")\n",
    "    specific_nutrients_df = specific_nutrients(full_nutrients)\n",
    "    print(\"Re-ordering nutrients\")\n",
    "    final_df = new_index_order(specific_nutrients_df)\n",
    "    all_dataframes.append(final_df)\n",
    "    print(f\"'{food_item}' done!\")\n",
    "    print()\n",
    "    print('*')\n",
    "    time.sleep(1)\n",
    "    print('**')\n",
    "    time.sleep(1)\n",
    "    print('***')\n",
    "    time.sleep(1)\n",
    "    print('****')\n",
    "    time.sleep(1)\n",
    "    print('*****')\n",
    "    \n",
    "print(\"*\"*100)    \n",
    "print(\"Combining all dataframes\")\n",
    "all_df = pd.concat(all_dataframes)\n",
    "print(\"Exporting a CSV file\")\n",
    "all_df.to_csv(all_df['food-item'][0] + '.csv')\n",
    "print(\"**********\")\n",
    "print(\"ALL DONE!!\")\n",
    "print(\"**********\")"
   ]
  },
  {
   "cell_type": "markdown",
   "metadata": {},
   "source": [
    "# Nutrient values needed for ChefTec (In order)\n",
    "- Calcium, Ca\n",
    "- Calories\n",
    "- Carbohydrate by difference\n",
    "- Cholesterol\n",
    "- Fatty acids, saturated\n",
    "- Fatty acids, total trans\n",
    "- Fiber, total dietary\n",
    "- Iron, Fe\n",
    "- Potassium, K (new label)\n",
    "- Protein\n",
    "- Sodium, Na\n",
    "- Sugars, added\n",
    "- Sugars, total\n",
    "- Total lipid (fat)\n",
    "- Vitamin A, IU (old label)\n",
    "- Vitamin A, RAE (new label)\n",
    "- Vitamin C (old label)\n",
    "- Vitamin D (D2 + D3) (new label)\n",
    "- Vitmain D (old label)"
   ]
  }
 ],
 "metadata": {
  "kernelspec": {
   "display_name": "Python 3",
   "language": "python",
   "name": "python3"
  },
  "language_info": {
   "codemirror_mode": {
    "name": "ipython",
    "version": 3
   },
   "file_extension": ".py",
   "mimetype": "text/x-python",
   "name": "python",
   "nbconvert_exporter": "python",
   "pygments_lexer": "ipython3",
   "version": "3.7.6"
  }
 },
 "nbformat": 4,
 "nbformat_minor": 4
}
